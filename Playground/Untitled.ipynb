{
 "cells": [
  {
   "cell_type": "code",
   "execution_count": 30,
   "id": "4a7df9d3",
   "metadata": {},
   "outputs": [],
   "source": [
    "array =[[0 for i in range(cols)] for j in range(rows)])"
   ]
  },
  {
   "cell_type": "code",
   "execution_count": 31,
   "id": "4da0f290",
   "metadata": {},
   "outputs": [
    {
     "data": {
      "text/plain": [
       "[[0, 0, 0, 0, 0, 0, 0, 0, 0, 0],\n",
       " [0, 0, 0, 0, 0, 0, 0, 0, 0, 0],\n",
       " [0, 0, 0, 0, 0, 0, 0, 0, 0, 0]]"
      ]
     },
     "execution_count": 31,
     "metadata": {},
     "output_type": "execute_result"
    }
   ],
   "source": [
    "array"
   ]
  },
  {
   "cell_type": "code",
   "execution_count": 32,
   "id": "123ae479",
   "metadata": {},
   "outputs": [],
   "source": [
    "array [1][3] = 3\n"
   ]
  },
  {
   "cell_type": "code",
   "execution_count": 33,
   "id": "526caa5b",
   "metadata": {},
   "outputs": [
    {
     "data": {
      "text/plain": [
       "[[0, 0, 0, 3, 0, 0, 0, 0, 0, 0],\n",
       " [0, 0, 0, 3, 0, 0, 0, 0, 0, 0],\n",
       " [0, 0, 0, 3, 0, 0, 0, 0, 0, 0]]"
      ]
     },
     "execution_count": 33,
     "metadata": {},
     "output_type": "execute_result"
    }
   ],
   "source": [
    "array"
   ]
  },
  {
   "cell_type": "code",
   "execution_count": null,
   "id": "f3935562",
   "metadata": {},
   "outputs": [],
   "source": []
  }
 ],
 "metadata": {
  "kernelspec": {
   "display_name": "Python 3 (ipykernel)",
   "language": "python",
   "name": "python3"
  },
  "language_info": {
   "codemirror_mode": {
    "name": "ipython",
    "version": 3
   },
   "file_extension": ".py",
   "mimetype": "text/x-python",
   "name": "python",
   "nbconvert_exporter": "python",
   "pygments_lexer": "ipython3",
   "version": "3.9.13"
  }
 },
 "nbformat": 4,
 "nbformat_minor": 5
}
