{
 "cells": [
  {
   "cell_type": "code",
   "execution_count": 1,
   "id": "688f86a4",
   "metadata": {},
   "outputs": [],
   "source": [
    "import pandas as pd\n",
    "import os"
   ]
  },
  {
   "cell_type": "code",
   "execution_count": 2,
   "id": "7c676909",
   "metadata": {},
   "outputs": [],
   "source": [
    "cwd = os.getcwd()\n",
    "base_url = 'https://hsdes.intel.com/resource/'"
   ]
  },
  {
   "cell_type": "code",
   "execution_count": 3,
   "id": "d03f087c",
   "metadata": {},
   "outputs": [],
   "source": [
    "# Read the first CSV file into a Pandas DataFrame\n",
    "HSD_data = pd.read_csv('.\\data\\WW09_HSD_CVL4.3_export.csv')\n",
    "DNG_data = pd.read_csv('.\\data\\WW08_DNG_CVL4.3_export.csv')"
   ]
  },
  {
   "cell_type": "code",
   "execution_count": 4,
   "id": "6e66007d",
   "metadata": {},
   "outputs": [
    {
     "data": {
      "text/plain": [
       "82"
      ]
     },
     "execution_count": 4,
     "metadata": {},
     "output_type": "execute_result"
    }
   ],
   "source": [
    "HSD_data['Jama URL'] = base_url + HSD_data['id'].astype(str)\n",
    "HSD_data = HSD_data.drop('feature_subtype', axis=1)\n",
    "HSD_data = HSD_data.drop('status', axis=1)\n",
    "HSD_data = HSD_data.drop('component_affected', axis=1)\n",
    "len(HSD_data)"
   ]
  },
  {
   "cell_type": "code",
   "execution_count": 5,
   "id": "bd714346",
   "metadata": {},
   "outputs": [],
   "source": [
    "#HSD_data.to_csv('.\\data\\WW09_HSD_CVL4.3_check.csv', index=False)"
   ]
  },
  {
   "cell_type": "code",
   "execution_count": 6,
   "id": "c89eb915",
   "metadata": {},
   "outputs": [
    {
     "data": {
      "text/plain": [
       "id                                             13010325096\n",
       "title        Debug Dump - MNG Transactions Cluster support\n",
       "component                                 sw.100g_esx_icen\n",
       "Jama URL      https://hsdes.intel.com/resource/13010325096\n",
       "Name: 1, dtype: object"
      ]
     },
     "execution_count": 6,
     "metadata": {},
     "output_type": "execute_result"
    }
   ],
   "source": [
    "HSD_data.iloc[1]"
   ]
  },
  {
   "cell_type": "code",
   "execution_count": 7,
   "id": "afa4d3ca",
   "metadata": {},
   "outputs": [
    {
     "data": {
      "text/plain": [
       "85"
      ]
     },
     "execution_count": 7,
     "metadata": {},
     "output_type": "execute_result"
    }
   ],
   "source": [
    "len(DNG_data)"
   ]
  },
  {
   "cell_type": "code",
   "execution_count": 8,
   "id": "83192e1b",
   "metadata": {},
   "outputs": [
    {
     "data": {
      "text/plain": [
       "id                                                          374104\n",
       "Name                          Devlink API detection for NVM update\n",
       "Jama URL              https://hsdes.intel.com/resource/18025554878\n",
       "Jama ID                                             =\"18025554878\"\n",
       "Jama Global ID                                      =\"18025554878\"\n",
       "Affected Component                                      Unassigned\n",
       "Artifact Type                                    ND SW Requirement\n",
       "Name: 1, dtype: object"
      ]
     },
     "execution_count": 8,
     "metadata": {},
     "output_type": "execute_result"
    }
   ],
   "source": [
    "DNG_data.iloc[1]"
   ]
  },
  {
   "cell_type": "code",
   "execution_count": 14,
   "id": "64537044",
   "metadata": {},
   "outputs": [
    {
     "data": {
      "text/plain": [
       "59"
      ]
     },
     "execution_count": 14,
     "metadata": {},
     "output_type": "execute_result"
    }
   ],
   "source": [
    "merged = pd.merge(HSD_data, DNG_data, on='Jama URL', how='inner')\n",
    "len(merged)"
   ]
  },
  {
   "cell_type": "code",
   "execution_count": 15,
   "id": "c199cf5e",
   "metadata": {
    "scrolled": true
   },
   "outputs": [
    {
     "data": {
      "text/plain": [
       "83"
      ]
     },
     "execution_count": 15,
     "metadata": {},
     "output_type": "execute_result"
    }
   ],
   "source": [
    "merged = pd.merge(HSD_data, DNG_data, on='Jama URL', how='left')\n",
    "len(merged)"
   ]
  },
  {
   "cell_type": "code",
   "execution_count": 16,
   "id": "fdfcab52",
   "metadata": {},
   "outputs": [
    {
     "data": {
      "text/plain": [
       "id_x                                                        18022389188\n",
       "title                 Linux: SR-IOV Live Migration using VFIO Live M...\n",
       "component                                             sw.100g_linux_ice\n",
       "Jama URL                   https://hsdes.intel.com/resource/18022389188\n",
       "id_y                                                             374038\n",
       "Name                  Linux: SR-IOV Live Migration using VFIO Live M...\n",
       "Jama ID                                                  =\"18022389188\"\n",
       "Jama Global ID                                           =\"18022389188\"\n",
       "Affected Component                                       100G.Linux.ice\n",
       "Artifact Type                                         ND SW Requirement\n",
       "Name: 20, dtype: object"
      ]
     },
     "execution_count": 16,
     "metadata": {},
     "output_type": "execute_result"
    }
   ],
   "source": [
    "merged.iloc[20]"
   ]
  },
  {
   "cell_type": "code",
   "execution_count": 17,
   "id": "25ad4634",
   "metadata": {},
   "outputs": [],
   "source": [
    "merged = merged.drop('Name', axis=1)\n",
    "merged = merged.drop('Jama ID', axis=1)\n",
    "merged = merged.drop('Jama Global ID', axis=1)\n",
    "merged = merged.drop('Affected Component', axis=1)\n",
    "merged['Artifact Type'] = 'ND SW Requirement'\n",
    "\n",
    "merged = merged.rename(columns={'title': 'Name'})\n",
    "merged['Jama ID'] = merged['id_x'].astype(str)\n",
    "merged = merged.rename(columns={'id_x': 'Jama Global ID'})\n",
    "merged = merged.rename(columns={'component': 'Affected Component'})\n",
    "merged = merged.rename(columns={'id_y': 'id'})"
   ]
  },
  {
   "cell_type": "code",
   "execution_count": 18,
   "id": "c15e11b2",
   "metadata": {},
   "outputs": [],
   "source": [
    "merged.to_csv('.\\data\\WW09_HSD_CVL4.3_merge.csv', index=False)"
   ]
  },
  {
   "cell_type": "code",
   "execution_count": null,
   "id": "dc770ad4",
   "metadata": {},
   "outputs": [],
   "source": []
  },
  {
   "cell_type": "code",
   "execution_count": null,
   "id": "16fc0c2a",
   "metadata": {},
   "outputs": [],
   "source": []
  }
 ],
 "metadata": {
  "kernelspec": {
   "display_name": "Python 3 (ipykernel)",
   "language": "python",
   "name": "python3"
  },
  "language_info": {
   "codemirror_mode": {
    "name": "ipython",
    "version": 3
   },
   "file_extension": ".py",
   "mimetype": "text/x-python",
   "name": "python",
   "nbconvert_exporter": "python",
   "pygments_lexer": "ipython3",
   "version": "3.9.13"
  }
 },
 "nbformat": 4,
 "nbformat_minor": 5
}
