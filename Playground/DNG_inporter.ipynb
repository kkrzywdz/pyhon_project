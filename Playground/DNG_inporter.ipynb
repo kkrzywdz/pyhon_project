{
 "cells": [
  {
   "cell_type": "code",
   "execution_count": 1,
   "id": "4e80eaeb",
   "metadata": {},
   "outputs": [],
   "source": [
    "import pandas as pd\n",
    "import os\n",
    "import re"
   ]
  },
  {
   "cell_type": "markdown",
   "id": "8e702015",
   "metadata": {},
   "source": [
    "# regular expression pattern to extract the URL"
   ]
  },
  {
   "cell_type": "code",
   "execution_count": 2,
   "id": "dbd2d0df",
   "metadata": {},
   "outputs": [],
   "source": [
    "cwd = os.getcwd()\n",
    "base_url = 'https://hsdes.intel.com/resource/'\n",
    "pattern = r'\"(.*?)\"'"
   ]
  },
  {
   "cell_type": "markdown",
   "id": "99283431",
   "metadata": {},
   "source": [
    "# Read the first CSV file into a Pandas DataFrame"
   ]
  },
  {
   "cell_type": "code",
   "execution_count": 3,
   "id": "38781361",
   "metadata": {},
   "outputs": [],
   "source": [
    "HSD_data = pd.read_csv('.\\data\\MEV_SRS_HSD_WW09.csv')\n",
    "DNG_data = pd.read_csv('.\\data\\MEV_SRS_DNG_WW09.csv')"
   ]
  },
  {
   "cell_type": "markdown",
   "id": "f9aeb6ad",
   "metadata": {},
   "source": [
    "# apply the regex to extract the URL and replace the original value in the column\n",
    "need to extract ID from \"=HYPERLINK(\"https://hsdes.intel.com/resource/14015250948\",\"14015250948\")\"\n"
   ]
  },
  {
   "cell_type": "code",
   "execution_count": 4,
   "id": "951016c9",
   "metadata": {},
   "outputs": [
    {
     "data": {
      "text/plain": [
       "130"
      ]
     },
     "execution_count": 4,
     "metadata": {},
     "output_type": "execute_result"
    }
   ],
   "source": [
    "HSD_data['H_url'] = HSD_data['id'].apply(lambda x: re.findall(pattern, x)[0])\n",
    "HSD_data['H_Jama URL'] = base_url + HSD_data['id'].str.extract(r'(\\d+)') \n",
    "HSD_data['Jama ID']  = HSD_data['id'].str.extract(r'(\\d+)') \n",
    "\n",
    "HSD_data = HSD_data.drop('id', axis=1)\n",
    "len(HSD_data)"
   ]
  },
  {
   "cell_type": "code",
   "execution_count": 5,
   "id": "e204c85f",
   "metadata": {},
   "outputs": [
    {
     "data": {
      "text/plain": [
       "title         IPU Fuse Configuration Utility - tool description\n",
       "component                                  sw.ie_tools_docs-ipu\n",
       "H_url              https://hsdes.intel.com/resource/13010465679\n",
       "H_Jama URL         https://hsdes.intel.com/resource/13010465679\n",
       "Jama ID                                             13010465679\n",
       "Name: 1, dtype: object"
      ]
     },
     "execution_count": 5,
     "metadata": {},
     "output_type": "execute_result"
    }
   ],
   "source": [
    "HSD_data.iloc[1]"
   ]
  },
  {
   "cell_type": "markdown",
   "id": "e8513060",
   "metadata": {},
   "source": [
    "# prepeare DNG data"
   ]
  },
  {
   "cell_type": "code",
   "execution_count": 6,
   "id": "7d8f9911",
   "metadata": {},
   "outputs": [],
   "source": [
    "DNG_data['Jama ID']  = DNG_data['Jama ID'].str.extract(r'(\\d+)') "
   ]
  },
  {
   "cell_type": "code",
   "execution_count": 7,
   "id": "fffdda17",
   "metadata": {},
   "outputs": [
    {
     "data": {
      "text/plain": [
       "681"
      ]
     },
     "execution_count": 7,
     "metadata": {},
     "output_type": "execute_result"
    }
   ],
   "source": [
    "len(DNG_data)"
   ]
  },
  {
   "cell_type": "code",
   "execution_count": 8,
   "id": "d119bd64",
   "metadata": {},
   "outputs": [
    {
     "data": {
      "text/plain": [
       "id                                                               377245\n",
       "Name                                Document IMC Initialization Package\n",
       "Artifact Type                                         ND SW Requirement\n",
       "Jama ID                                                     22016633136\n",
       "Jama URL              https://hsdes.intel.com/appstore/article/#/220...\n",
       "HSD ID                                                              NaN\n",
       "HSD URL                                                             NaN\n",
       "Affected Component                                           Unassigned\n",
       "Name: 1, dtype: object"
      ]
     },
     "execution_count": 8,
     "metadata": {},
     "output_type": "execute_result"
    }
   ],
   "source": [
    "DNG_data.iloc[1]"
   ]
  },
  {
   "cell_type": "markdown",
   "id": "2ccefecd",
   "metadata": {},
   "source": [
    "# checking how many articles will be updated "
   ]
  },
  {
   "cell_type": "code",
   "execution_count": 28,
   "id": "a1c55df7",
   "metadata": {},
   "outputs": [
    {
     "data": {
      "text/plain": [
       "124"
      ]
     },
     "execution_count": 28,
     "metadata": {},
     "output_type": "execute_result"
    }
   ],
   "source": [
    "merged = pd.merge(HSD_data, DNG_data, on='Jama ID', how='inner')\n",
    "len(merged)"
   ]
  },
  {
   "cell_type": "markdown",
   "id": "14edfabc",
   "metadata": {},
   "source": [
    "# Create full list of articles to upload (update or insert)"
   ]
  },
  {
   "cell_type": "code",
   "execution_count": 29,
   "id": "72fc4cce",
   "metadata": {
    "scrolled": true
   },
   "outputs": [
    {
     "data": {
      "text/plain": [
       "130"
      ]
     },
     "execution_count": 29,
     "metadata": {},
     "output_type": "execute_result"
    }
   ],
   "source": [
    "merged = pd.merge(HSD_data, DNG_data, on='Jama ID', how='left')\n",
    "len(merged)"
   ]
  },
  {
   "cell_type": "code",
   "execution_count": 30,
   "id": "007b40d9",
   "metadata": {},
   "outputs": [
    {
     "data": {
      "text/plain": [
       "title                                ACC UEFI FW - System Timer support\n",
       "component                                       sw.pre-boot_acc_uefi_fw\n",
       "H_url                      https://hsdes.intel.com/resource/18017059379\n",
       "H_Jama URL                 https://hsdes.intel.com/resource/18017059379\n",
       "Jama ID                                                     18017059379\n",
       "id                                                               377135\n",
       "Name                                 ACC UEFI FW - System Timer support\n",
       "Artifact Type                                         ND SW Requirement\n",
       "Jama URL              https://hsdes.intel.com/appstore/article/#/180...\n",
       "HSD ID                                                              NaN\n",
       "HSD URL                                                             NaN\n",
       "Affected Component                                           Unassigned\n",
       "Name: 12, dtype: object"
      ]
     },
     "execution_count": 30,
     "metadata": {},
     "output_type": "execute_result"
    }
   ],
   "source": [
    "merged.iloc[12]"
   ]
  },
  {
   "cell_type": "code",
   "execution_count": 31,
   "id": "8112c9c6",
   "metadata": {},
   "outputs": [],
   "source": [
    "merged = merged.drop('HSD ID', axis=1)\n",
    "merged = merged.drop('HSD URL', axis=1)\n",
    "\n",
    "merged = merged.drop('Name', axis=1)\n",
    "merged = merged.rename(columns={'title': 'Name'})\n",
    "\n",
    "merged = merged.drop('Affected Component', axis=1)\n",
    "merged = merged.rename(columns={'component': 'Affected Component'})\n",
    "\n",
    "merged = merged.drop('Jama URL', axis=1)\n",
    "merged = merged.rename(columns={'H_Jama URL': 'Jama URL'})\n",
    "merged = merged.rename(columns={'H_url': 'HSD URL'})\n",
    "\n",
    "merged['HSD ID'] = merged['Jama ID']\n",
    "\n",
    "merged['Artifact Type'] = 'ND SW Requirement'\n"
   ]
  },
  {
   "cell_type": "code",
   "execution_count": 32,
   "id": "cc15058b",
   "metadata": {},
   "outputs": [
    {
     "data": {
      "text/plain": [
       "Name                            ACC UEFI FW - System Timer support\n",
       "Affected Component                         sw.pre-boot_acc_uefi_fw\n",
       "HSD URL               https://hsdes.intel.com/resource/18017059379\n",
       "Jama URL              https://hsdes.intel.com/resource/18017059379\n",
       "Jama ID                                                18017059379\n",
       "id                                                          377135\n",
       "Artifact Type                                    ND SW Requirement\n",
       "HSD ID                                                 18017059379\n",
       "Name: 12, dtype: object"
      ]
     },
     "execution_count": 32,
     "metadata": {},
     "output_type": "execute_result"
    }
   ],
   "source": [
    "merged.iloc[12]"
   ]
  },
  {
   "cell_type": "code",
   "execution_count": null,
   "id": "969052d2",
   "metadata": {},
   "outputs": [],
   "source": []
  },
  {
   "cell_type": "code",
   "execution_count": 33,
   "id": "889e7296",
   "metadata": {},
   "outputs": [],
   "source": [
    "merged.to_csv('.\\data\\MEV_SRS_merge.csv', index=False)"
   ]
  },
  {
   "cell_type": "code",
   "execution_count": null,
   "id": "fbef9f25",
   "metadata": {},
   "outputs": [],
   "source": []
  },
  {
   "cell_type": "code",
   "execution_count": 5,
   "id": "ff2c5928",
   "metadata": {},
   "outputs": [],
   "source": [
    "#HSD_data.to_csv('.\\data\\WW09_HSD_CVL4.3_check.csv', index=False)"
   ]
  }
 ],
 "metadata": {
  "kernelspec": {
   "display_name": "Python 3 (ipykernel)",
   "language": "python",
   "name": "python3"
  },
  "language_info": {
   "codemirror_mode": {
    "name": "ipython",
    "version": 3
   },
   "file_extension": ".py",
   "mimetype": "text/x-python",
   "name": "python",
   "nbconvert_exporter": "python",
   "pygments_lexer": "ipython3",
   "version": "3.9.13"
  }
 },
 "nbformat": 4,
 "nbformat_minor": 5
}
